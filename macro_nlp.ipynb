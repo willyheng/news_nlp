{
 "cells": [
  {
   "cell_type": "code",
   "execution_count": null,
   "metadata": {},
   "outputs": [],
   "source": [
    "import eikon as ek  # the Eikon Python wrapper package\n",
    "import numpy as np  # NumPy\n",
    "import pandas as pd  # pandas\n",
    "import cufflinks as cf  # Cufflinks\n",
    "import configparser as cp\n",
    "import pickle\n",
    "import re\n",
    "from datetime import date, timedelta, datetime\n",
    "\n",
    "import nltk, bs4  # NLP toolkit & BeautyfulSoup\n",
    "from bs4 import BeautifulSoup  # HTML parsing\n",
    "from nltk import word_tokenize  # tokenizing\n",
    "from nltk.corpus import stopwords\n",
    "\n",
    "from nltk.sentiment.vader import SentimentIntensityAnalyzer  # sentiment analysis\n",
    "\n",
    "nltk.download('stopwords')\n",
    "nltk.download('punkt')  # downloads package if required, for tokenizing\n",
    "nltk.download('vader_lexicon')  # For sentiment"
   ]
  },
  {
   "cell_type": "code",
   "execution_count": null,
   "metadata": {},
   "outputs": [],
   "source": [
    "import os\n",
    "os.getcwd()"
   ]
  },
  {
   "cell_type": "code",
   "execution_count": null,
   "metadata": {},
   "outputs": [],
   "source": [
    "# Set up Eikon\n",
    "\n",
    "cfg = cp.ConfigParser()\n",
    "cfg.read('eikon.cfg')  # adjust for different file location\n",
    "ek.set_app_key(cfg['eikon']['app_id'])"
   ]
  },
  {
   "cell_type": "code",
   "execution_count": null,
   "metadata": {},
   "outputs": [],
   "source": [
    "def download_news(start_date, end_date, category = \"macro\"):\n",
    "    news = []\n",
    "    for i in range((end_date - start_date).days + 1):\n",
    "        for h in range(0, 24, 4):\n",
    "            start_datetime = datetime.combine(start_date, datetime.min.time()) + timedelta(days = i, hours = h)\n",
    "            end_datetime = start_datetime + timedelta(hours = 4)\n",
    "            news.append(_download_news_with_datetime(start_datetime, end_datetime, 100, category))\n",
    "            \n",
    "    return pd.concat(news)\n",
    "\n",
    "def _download_news_with_datetime(start_datetime, end_datetime, count = 100, category = \"macro\"):\n",
    "    if category == \"macro\":\n",
    "        query = '( Topic:NEWS1 OR Topic:TOPNWS ) AND (Topic:FRX OR Topic:CEN OR Topic:ECI OR Topic:INT) AND (Topic:EZC OR Topic:EZ OR Topic:GB) AND LEN NOT ( Topic:SPO)'\n",
    "    else:\n",
    "        stop(\"Invalid category\")\n",
    "        \n",
    "    news_pickle = \"news_archive/eikon_{}_{:%Y%m%d%H%M}_{:%Y%m%d%H%M}.pkl\".format(category, start_datetime, end_datetime)\n",
    "    try: \n",
    "        news = pickle.load(open(news_pickle, 'rb'))\n",
    "    except:\n",
    "        news = ek.get_news_headlines(query,\n",
    "                                           date_from=\"{:%Y-%m-%dT%H:%M}:00\".format(start_datetime), \n",
    "                                           date_to =\"{:%Y-%m-%dT%H:%M}:00\".format(end_datetime),\n",
    "                                           count = count)\n",
    "        news = news.drop_duplicates('storyId')\n",
    "        stories = []\n",
    "        print(\"Downloading stories for {} news articles from {:%Y-%m-%dT%H:%M} to {:%Y-%m-%dT%H:%M}\".format(len(news), start_datetime, end_datetime))\n",
    "        for i, storyId in enumerate(news['storyId']):\n",
    "            try:\n",
    "                html = ek.get_news_story(storyId)\n",
    "                story = BeautifulSoup(html, 'html5lib').get_text(strip = True)\n",
    "                stories.append(story)\n",
    "            except:\n",
    "                stories.append('')\n",
    "                \n",
    "        # Clean up extra text    \n",
    "        news['story'] = [re.sub(\"^\\..*?{.*?}\",\"\", x) for x in stories]\n",
    "        if end_datetime < datetime.now():\n",
    "            pickle.dump(news, open(news_pickle, 'wb'))\n",
    "    \n",
    "    return news"
   ]
  },
  {
   "cell_type": "code",
   "execution_count": null,
   "metadata": {},
   "outputs": [],
   "source": [
    "%%time\n",
    "\n",
    "# Download news from last 3 months\n",
    "n_days = 90\n",
    "start_date = date.today() - timedelta(days = n_days)\n",
    "end_date = date.today()\n",
    "\n",
    "news = download_news(start_date, end_date)\n",
    "raw_news = news.copy()"
   ]
  },
  {
   "cell_type": "code",
   "execution_count": null,
   "metadata": {},
   "outputs": [],
   "source": [
    "# Remove news with same storyId\n",
    "news = news.drop_duplicates('storyId').reset_index()"
   ]
  },
  {
   "cell_type": "code",
   "execution_count": null,
   "metadata": {},
   "outputs": [],
   "source": [
    "# Use title if no content\n",
    "news[news['story'] == \"\"]['story'] = news[news['story'] == \"\"]['text']"
   ]
  },
  {
   "cell_type": "code",
   "execution_count": null,
   "metadata": {},
   "outputs": [],
   "source": [
    "# Clean up opening para\n",
    "news['storyClean'] = news['story'].str.replace(re.compile(r\"^.*?(Jan(uary)*|Feb(ruary)*|Mar(ch)*|Apr(il)*|May|Jun(e)*|Jul(y)*|Aug(ust)*|Sep(tember)*|Oct(ober)*|Nov(ember)*|Dec(ember)*)\\.* [1-3]{0,1}[0-9] \\(.+?\\) *-* *\", flags=re.IGNORECASE), \" \")"
   ]
  },
  {
   "cell_type": "code",
   "execution_count": null,
   "metadata": {},
   "outputs": [],
   "source": [
    "# Clean footer\n",
    "news['storyClean'] = news['storyClean'].str.replace(re.compile(r\"\\((Compiled|Polling|Editing|Writing|Graphic|Additional reporting|Reporting) by(.|\\n)*$\", flags=re.IGNORECASE), \" \")\n",
    "news['storyClean'] = news['storyClean'].str.replace(re.compile(r\"(Email:|\\()[a-z0-9|\\.]+@(thomsonreuters|tr|news\\.reuters)\\.com(.|\\n)*$\", flags=re.IGNORECASE), \" \")\n",
    "news['storyClean'] = news['storyClean'].str.replace(re.compile(r\"(\\(.{5,30}\\).{5,10}){0,1}Copyright Thomson Reuters(.|\\n)*$\", flags=re.IGNORECASE), \" \")"
   ]
  },
  {
   "cell_type": "code",
   "execution_count": null,
   "metadata": {},
   "outputs": [],
   "source": [
    "# Clean footer\n",
    "#news['storyClean'] = news['storyClean'].apply(lambda x: re.sub(\"\\((Compiled|Polling|Editing|Writing|Graphic|Additional reporting|Reporting) by(.|\\n)*$\", \"\", x, re.IGNORECASE))\n",
    "#news['storyClean'] = news['storyClean'].apply(lambda x: re.sub(\"(Email:|\\()[a-z0-9|\\.]+@(thomsonreuters|tr|news\\.reuters)\\.com(.|\\n)*$\", \"\", x, re.IGNORECASE))\n",
    "#news['storyClean'] = news['storyClean'].apply(lambda x: re.sub(\"(\\(.{5,30}\\).{5,10}){0,1}Copyright Thomson Reuters(.|\\n)*$\", \"\", x, re.IGNORECASE))"
   ]
  },
  {
   "cell_type": "code",
   "execution_count": null,
   "metadata": {},
   "outputs": [],
   "source": [
    "# Clean bracket text\n",
    "news['storyClean'] = news['storyClean'].str.replace(re.compile(r\"\\(.{5,30}?\\)\", flags=re.IGNORECASE), \" \")\n",
    "news['storyClean'] = news['storyClean'].str.replace(re.compile(r\"\\(Reporting by.*?\\)\", flags=re.IGNORECASE), \" \")"
   ]
  },
  {
   "cell_type": "code",
   "execution_count": null,
   "metadata": {},
   "outputs": [],
   "source": [
    "def clean_text(text, stop = None):\n",
    "    all_tokens = word_tokenize(text)\n",
    "    clean_tokens = [x.lower() for x in all_tokens if x.isalpha()][:]\n",
    "    \n",
    "    if stop is None:\n",
    "        stop = stopwords.words('english') + ['reuters', 'click', 'full', 'story', \"says\", \"said\"]\n",
    "    clean_tokens = [x for x in clean_tokens if x not in stop]\n",
    "    \n",
    "    return \" \".join(clean_tokens)"
   ]
  },
  {
   "cell_type": "code",
   "execution_count": null,
   "metadata": {},
   "outputs": [],
   "source": [
    "# Clean words in news\n",
    "news['storyClean'] = [clean_text(x) for x in news['storyClean']]"
   ]
  },
  {
   "cell_type": "markdown",
   "metadata": {},
   "source": [
    "# Remove very similar articles (repeat but in slightly different form)"
   ]
  },
  {
   "cell_type": "code",
   "execution_count": null,
   "metadata": {},
   "outputs": [],
   "source": [
    "from sklearn.feature_extraction.text import TfidfVectorizer\n",
    "\n",
    "vec = TfidfVectorizer(stop_words=stop, ngram_range = (1,3), min_df = 5)"
   ]
  },
  {
   "cell_type": "code",
   "execution_count": null,
   "metadata": {},
   "outputs": [],
   "source": [
    "X = vec.fit_transform(news['storyClean'].values)"
   ]
  },
  {
   "cell_type": "code",
   "execution_count": null,
   "metadata": {},
   "outputs": [],
   "source": [
    "pairwise_similarity = X * X.T\n",
    "arr = pairwise_similarity.toarray()"
   ]
  },
  {
   "cell_type": "code",
   "execution_count": null,
   "metadata": {},
   "outputs": [],
   "source": [
    "# Eliminate diagonals and low similarity\n",
    "np.fill_diagonal(arr, 0)\n",
    "arr[arr <= 0.98] = 0\n",
    "\n",
    "# Articles where match is more than 0.95\n",
    "r, c = np.where(arr > 0.98)\n",
    "\n",
    "# Identify indices to delete\n",
    "t = [tuple(sorted(x)) for x in zip(r, c)]\n",
    "unique_t = [x for x in set(t)]\n",
    "to_delete = list(set([x[1] for x in unique_t]))"
   ]
  },
  {
   "cell_type": "code",
   "execution_count": null,
   "metadata": {},
   "outputs": [],
   "source": [
    "# Delete said indices\n",
    "news = news.drop(to_delete)"
   ]
  },
  {
   "cell_type": "markdown",
   "metadata": {},
   "source": [
    "# Fit and predict"
   ]
  },
  {
   "cell_type": "code",
   "execution_count": null,
   "metadata": {},
   "outputs": [],
   "source": [
    "news_today = news[news['index'] > datetime.combine(date.today(), datetime.min.time()) - timedelta(days = 5)]\n",
    "news_history = news[news['index'] < datetime.combine(date.today(), datetime.min.time()) - timedelta(days = 5)]"
   ]
  },
  {
   "cell_type": "code",
   "execution_count": null,
   "metadata": {},
   "outputs": [],
   "source": [
    "news_lastweek = news[(news['index'] > datetime.combine(date.today(), datetime.min.time()) - timedelta(days = 10)) & \n",
    "                    (news['index'] < datetime.combine(date.today(), datetime.min.time()) - timedelta(days = 5))]"
   ]
  },
  {
   "cell_type": "code",
   "execution_count": null,
   "metadata": {},
   "outputs": [],
   "source": [
    "# Refit model\n",
    "X_alltime = vec.fit_transform(news['storyClean'].values).todense()"
   ]
  },
  {
   "cell_type": "code",
   "execution_count": null,
   "metadata": {},
   "outputs": [],
   "source": [
    "X_today_combined = vec.transform([\";\".join(news_today['storyClean'])]).todense()"
   ]
  },
  {
   "cell_type": "code",
   "execution_count": null,
   "metadata": {},
   "outputs": [],
   "source": [
    "X_today = vec.transform(news_today['storyClean'].values)"
   ]
  },
  {
   "cell_type": "code",
   "execution_count": null,
   "metadata": {},
   "outputs": [],
   "source": [
    "X_lastweek = vec.transform([\";\".join(news_lastweek['storyClean'])]).todense()"
   ]
  },
  {
   "cell_type": "code",
   "execution_count": null,
   "metadata": {},
   "outputs": [],
   "source": [
    "results = pd.DataFrame({\"word\": vec.get_feature_names(), \n",
    "                        \"score_alltime\": np.array(X_alltime)[0],\n",
    "              \"score_combined\": np.array(X_today_combined)[0], \n",
    "              \"score\": np.array(X_today.mean(axis = 0))[0], \n",
    "              \"score_lastweek\": np.array(X_lastweek)[0]}).sort_values(by = \"score_combined\", ascending = False)"
   ]
  },
  {
   "cell_type": "code",
   "execution_count": null,
   "metadata": {},
   "outputs": [],
   "source": [
    "results['curr_change_combined'] = results['score_combined'] - results['score_lastweek']\n",
    "results['curr_change'] = results['score'] - results['score_lastweek']\n",
    "results['prev_change'] = results['score_lastweek'] -results['score_alltime']"
   ]
  },
  {
   "cell_type": "code",
   "execution_count": null,
   "metadata": {},
   "outputs": [],
   "source": [
    "def filter_results(word_df, score_column, n = 10):\n",
    "    word_df = word_df.sort_values(score_column, ascending = False).reset_index(drop = True)\n",
    "    word_df['rank'] = list(range(len(word_df)))\n",
    "    #word_df = word_df.sort_values(score_column, ascending = False).iloc[:(n*2)].copy()\n",
    "    for index, word in enumerate(word_df['word']):\n",
    "        higher_grams_score = word_df[word_df['word'].str.contains('^{} '.format(word)) | \n",
    "                                     word_df['word'].str.contains(' {}$'.format(word)) & \n",
    "                                     ~results['word'].str.match(i)][score_column].sum()\n",
    "        #print(i, higher_grams_score)\n",
    "        word_df.loc[word_df['word'] == i, score_column] -= higher_grams_score\n",
    "    return word_df.sort_values(score_column, ascending = False)"
   ]
  },
  {
   "cell_type": "code",
   "execution_count": null,
   "metadata": {},
   "outputs": [],
   "source": [
    "results.sort_values(\"curr_change\", ascending = False)"
   ]
  },
  {
   "cell_type": "code",
   "execution_count": null,
   "metadata": {},
   "outputs": [],
   "source": [
    "results.sort_values(\"curr_change\", ascending = False)"
   ]
  },
  {
   "cell_type": "code",
   "execution_count": null,
   "metadata": {},
   "outputs": [],
   "source": [
    "filter_results(results, \"curr_change\")"
   ]
  },
  {
   "cell_type": "code",
   "execution_count": null,
   "metadata": {},
   "outputs": [],
   "source": [
    "results.sort_values(by =\"curr_change\", ascending = False).iloc[:20]"
   ]
  },
  {
   "cell_type": "code",
   "execution_count": null,
   "metadata": {},
   "outputs": [],
   "source": [
    "# For concordance\n",
    "curr_news = \";\".join(news_today['storyClean'].values)\n",
    "curr_tokens = word_tokenize(curr_news)\n",
    "curr_tokens = [x.lower() for x in curr_tokens if x.isalpha()][:]\n",
    "#stop = stopwords.words('english') + ['reuters', 'click', 'full', 'story']\n",
    "#curr_tokens = [x for x in curr_tokens if x not in stop]\n",
    "\n",
    "text = nltk.Text(curr_tokens)"
   ]
  },
  {
   "cell_type": "code",
   "execution_count": null,
   "metadata": {},
   "outputs": [],
   "source": [
    "text.concordance(\"policymakers\")"
   ]
  },
  {
   "cell_type": "markdown",
   "metadata": {},
   "source": [
    "# Misc analysis"
   ]
  },
  {
   "cell_type": "code",
   "execution_count": null,
   "metadata": {},
   "outputs": [],
   "source": [
    "# measure sentiment\n",
    "sid = SentimentIntensityAnalyzer()\n",
    "scores = sid.polarity_scores(news['story'][0])\n",
    "scores"
   ]
  },
  {
   "cell_type": "code",
   "execution_count": null,
   "metadata": {},
   "outputs": [],
   "source": [
    "all_news = \";\".join(news['story'].values)\n",
    "all_tokens = word_tokenize(all_news)"
   ]
  },
  {
   "cell_type": "code",
   "execution_count": null,
   "metadata": {},
   "outputs": [],
   "source": [
    "# Remove non-words\n",
    "clean_tokens = [x.lower() for x in all_tokens if x.isalpha()][:]"
   ]
  },
  {
   "cell_type": "code",
   "execution_count": null,
   "metadata": {},
   "outputs": [],
   "source": [
    "# Remove stopwords\n",
    "stop = stopwords.words('english') + ['reuters', 'click', 'full', 'story']\n",
    "clean_tokens = [x for x in clean_tokens if x not in stop]"
   ]
  },
  {
   "cell_type": "code",
   "execution_count": null,
   "metadata": {},
   "outputs": [],
   "source": [
    "freq = nltk.FreqDist(clean_tokens)\n",
    "freq.plot(20, cumulative = False)"
   ]
  }
 ],
 "metadata": {
  "kernelspec": {
   "display_name": "Python 3",
   "language": "python",
   "name": "python3"
  },
  "language_info": {
   "codemirror_mode": {
    "name": "ipython",
    "version": 3
   },
   "file_extension": ".py",
   "mimetype": "text/x-python",
   "name": "python",
   "nbconvert_exporter": "python",
   "pygments_lexer": "ipython3",
   "version": "3.7.3"
  }
 },
 "nbformat": 4,
 "nbformat_minor": 4
}
