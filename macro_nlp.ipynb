{
 "cells": [
  {
   "cell_type": "code",
   "execution_count": null,
   "metadata": {},
   "outputs": [],
   "source": [
    "import eikon as ek  # the Eikon Python wrapper package\n",
    "import numpy as np  # NumPy\n",
    "import pandas as pd  # pandas\n",
    "import cufflinks as cf  # Cufflinks\n",
    "import configparser as cp\n",
    "import pickle\n",
    "import re\n",
    "\n",
    "import nltk, bs4  # NLP toolkit & BeautyfulSoup\n",
    "from bs4 import BeautifulSoup  # HTML parsing\n",
    "from nltk import word_tokenize  # tokenizing\n",
    "from nltk.corpus import stopwords\n",
    "\n",
    "from nltk.sentiment.vader import SentimentIntensityAnalyzer  # sentiment analysis\n",
    "\n",
    "nltk.download('stopwords')\n",
    "nltk.download('punkt')  # downloads package if required, for tokenizing\n",
    "nltk.download('vader_lexicon')  # For sentiment"
   ]
  },
  {
   "cell_type": "code",
   "execution_count": null,
   "metadata": {},
   "outputs": [],
   "source": [
    "# Set up Eikon\n",
    "\n",
    "cfg = cp.ConfigParser()\n",
    "cfg.read('eikon.cfg')  # adjust for different file location\n",
    "ek.set_app_key(cfg['eikon']['app_id'])"
   ]
  },
  {
   "cell_type": "code",
   "execution_count": null,
   "metadata": {},
   "outputs": [],
   "source": [
    "# Download headlines\n",
    "\n",
    "query = '( Topic:NEWS1 OR Topic:TOPNWS ) AND (Topic:FRX OR Topic:CEN OR Topic:ECI OR Topic:INT) AND (Topic:EZC OR Topic:EZ OR Topic:GB) AND LEN NOT ( Topic:SPO)'\n",
    "news = ek.get_news_headlines(query, \n",
    "                             date_from='2019-08-19T00:00:00', \n",
    "                             date_to ='2019-08-20T20:00:00', \n",
    "                             count = 100)\n",
    "news.head()"
   ]
  },
  {
   "cell_type": "code",
   "execution_count": null,
   "metadata": {},
   "outputs": [],
   "source": []
  },
  {
   "cell_type": "code",
   "execution_count": null,
   "metadata": {},
   "outputs": [],
   "source": [
    "%%time\n",
    "\n",
    "# Download and store news content\n",
    "try:\n",
    "    news = pickle.load(open('eikon_news.pkl', 'rb'))\n",
    "except:\n",
    "    stories = []\n",
    "    for i, storyId in enumerate(news['storyId']):\n",
    "        try:\n",
    "            html = ek.get_news_story(storyId)\n",
    "            story = BeautifulSoup(html, 'html5lib').get_text(strip = True)\n",
    "            stories.append(story)\n",
    "        except:\n",
    "            stories.append('')\n",
    "    news['story'] = stories\n",
    "    pickle.dump(news, open('eikon_news.pkl', 'wb'))"
   ]
  },
  {
   "cell_type": "code",
   "execution_count": null,
   "metadata": {},
   "outputs": [],
   "source": [
    "# Remove top placeholder from the news\n",
    "news['story'] = news['story'].apply(lambda x: re.sub(\"^\\..*?{.*?}\",\"\", x))"
   ]
  },
  {
   "cell_type": "code",
   "execution_count": null,
   "metadata": {},
   "outputs": [],
   "source": [
    "news['story'][0][:100]"
   ]
  },
  {
   "cell_type": "code",
   "execution_count": null,
   "metadata": {},
   "outputs": [],
   "source": [
    "# measure sentiment\n",
    "sid = SentimentIntensityAnalyzer()\n",
    "scores = sid.polarity_scores(news['story'][0])\n",
    "scores"
   ]
  },
  {
   "cell_type": "code",
   "execution_count": null,
   "metadata": {},
   "outputs": [],
   "source": [
    "all_news = \";\".join(news['story'].values)\n",
    "all_tokens = word_tokenize(all_news)"
   ]
  },
  {
   "cell_type": "code",
   "execution_count": null,
   "metadata": {},
   "outputs": [],
   "source": [
    "# Remove non-words\n",
    "clean_tokens = [x.lower() for x in all_tokens if x.isalpha()][:]"
   ]
  },
  {
   "cell_type": "code",
   "execution_count": null,
   "metadata": {},
   "outputs": [],
   "source": [
    "# Remove stopwords\n",
    "stop = stopwords.words('english') + ['reuters']\n",
    "clean_tokens = [x for x in clean_tokens if x not in stop]"
   ]
  },
  {
   "cell_type": "code",
   "execution_count": null,
   "metadata": {},
   "outputs": [],
   "source": [
    "freq = nltk.FreqDist(clean_tokens)\n",
    "freq.plot(20, cumulative = False)"
   ]
  },
  {
   "cell_type": "code",
   "execution_count": null,
   "metadata": {},
   "outputs": [],
   "source": [
    "text = nltk.Text(all_tokens)\n",
    "text.concordance(\"full\")"
   ]
  }
 ],
 "metadata": {
  "kernelspec": {
   "display_name": "Python 3",
   "language": "python",
   "name": "python3"
  },
  "language_info": {
   "codemirror_mode": {
    "name": "ipython",
    "version": 3
   },
   "file_extension": ".py",
   "mimetype": "text/x-python",
   "name": "python",
   "nbconvert_exporter": "python",
   "pygments_lexer": "ipython3",
   "version": "3.7.3"
  }
 },
 "nbformat": 4,
 "nbformat_minor": 4
}
