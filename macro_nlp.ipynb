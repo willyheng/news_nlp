{
 "cells": [
  {
   "cell_type": "code",
   "execution_count": null,
   "metadata": {},
   "outputs": [],
   "source": [
    "import eikon as ek  # the Eikon Python wrapper package\n",
    "import numpy as np  # NumPy\n",
    "import pandas as pd  # pandas\n",
    "import cufflinks as cf  # Cufflinks\n",
    "import configparser as cp\n",
    "import pickle\n",
    "import re\n",
    "from datetime import date, timedelta, datetime\n",
    "\n",
    "import nltk, bs4  # NLP toolkit & BeautyfulSoup\n",
    "from bs4 import BeautifulSoup  # HTML parsing\n",
    "from nltk import word_tokenize  # tokenizing\n",
    "from nltk.corpus import stopwords\n",
    "\n",
    "from nltk.sentiment.vader import SentimentIntensityAnalyzer  # sentiment analysis\n",
    "\n",
    "nltk.download('stopwords')\n",
    "nltk.download('punkt')  # downloads package if required, for tokenizing\n",
    "nltk.download('vader_lexicon')  # For sentiment"
   ]
  },
  {
   "cell_type": "code",
   "execution_count": null,
   "metadata": {},
   "outputs": [],
   "source": [
    "import os\n",
    "os.getcwd()"
   ]
  },
  {
   "cell_type": "code",
   "execution_count": null,
   "metadata": {},
   "outputs": [],
   "source": [
    "# Set up Eikon\n",
    "\n",
    "cfg = cp.ConfigParser()\n",
    "cfg.read('eikon.cfg')  # adjust for different file location\n",
    "ek.set_app_key(cfg['eikon']['app_id'])"
   ]
  },
  {
   "cell_type": "code",
   "execution_count": null,
   "metadata": {},
   "outputs": [],
   "source": [
    "def download_news(start_date, end_date, category = \"macro\"):\n",
    "    news = []\n",
    "    for i in range((end_date - start_date).days + 1):\n",
    "        for h in range(0, 24, 4):\n",
    "            start_datetime = datetime.combine(start_date, datetime.min.time()) + timedelta(days = i, hours = h)\n",
    "            end_datetime = start_datetime + timedelta(hours = 4)\n",
    "            news.append(_download_news_with_datetime(start_datetime, end_datetime, 100, category))\n",
    "            \n",
    "    return pd.concat(news)\n",
    "\n",
    "def _download_news_with_datetime(start_datetime, end_datetime, count = 100, category = \"macro\"):\n",
    "    if category == \"macro\":\n",
    "        query = '( Topic:NEWS1 OR Topic:TOPNWS ) AND (Topic:FRX OR Topic:CEN OR Topic:ECI OR Topic:INT) AND (Topic:EZC OR Topic:EZ OR Topic:GB) AND LEN NOT ( Topic:SPO)'\n",
    "    else:\n",
    "        stop(\"Invalid category\")\n",
    "        \n",
    "    news_pickle = \"news_archive/eikon_{}_{:%Y%m%d%H%M}_{:%Y%m%d%H%M}.pkl\".format(category, start_datetime, end_datetime)\n",
    "    try: \n",
    "        news = pickle.load(open(news_pickle, 'rb'))\n",
    "    except:\n",
    "        news = ek.get_news_headlines(query,\n",
    "                                           date_from=\"{:%Y-%m-%dT%H:%M}:00\".format(start_datetime), \n",
    "                                           date_to =\"{:%Y-%m-%dT%H:%M}:00\".format(end_datetime),\n",
    "                                           count = count)\n",
    "        stories = []\n",
    "        print(\"Downloading stories for {} news articles from {:%Y-%m-%dT%H:%M} to {:%Y-%m-%dT%H:%M}\".format(len(news), start_datetime, end_datetime))\n",
    "        for i, storyId in enumerate(news['storyId']):\n",
    "            try:\n",
    "                html = ek.get_news_story(storyId)\n",
    "                story = BeautifulSoup(html, 'html5lib').get_text(strip = True)\n",
    "                stories.append(story)\n",
    "            except:\n",
    "                stories.append('')\n",
    "                \n",
    "        # Clean up extra text    \n",
    "        news['story'] = [re.sub(\"^\\..*?{.*?}\",\"\", x) for x in stories]\n",
    "        if end_datetime < datetime.now():\n",
    "            pickle.dump(news, open(news_pickle, 'wb'))\n",
    "    \n",
    "    return news"
   ]
  },
  {
   "cell_type": "code",
   "execution_count": null,
   "metadata": {},
   "outputs": [],
   "source": [
    "%%time\n",
    "\n",
    "n_days = 90\n",
    "start_date = date.today() - timedelta(days = n_days)\n",
    "end_date = date.today()\n",
    "\n",
    "news = download_news(start_date, end_date)"
   ]
  },
  {
   "cell_type": "code",
   "execution_count": null,
   "metadata": {},
   "outputs": [],
   "source": [
    "# Remove news with same storyId\n",
    "news = news.drop_duplicates('storyId').reset_index()"
   ]
  },
  {
   "cell_type": "code",
   "execution_count": null,
   "metadata": {},
   "outputs": [],
   "source": [
    "def clean_text(text, stop = None):\n",
    "    all_tokens = word_tokenize(text)\n",
    "    clean_tokens = [x.lower() for x in all_tokens if x.isalpha()][:]\n",
    "    \n",
    "    if stop is None:\n",
    "        stop = stopwords.words('english') + ['reuters', 'click', 'full', 'story']\n",
    "    clean_tokens = [x for x in clean_tokens if x not in stop]\n",
    "    \n",
    "    return \" \".join(clean_tokens)"
   ]
  },
  {
   "cell_type": "code",
   "execution_count": null,
   "metadata": {},
   "outputs": [],
   "source": [
    "# Clean news\n",
    "news['storyClean'] = [clean_text(x) for x in news['story']]"
   ]
  },
  {
   "cell_type": "markdown",
   "metadata": {},
   "source": [
    "# Remove very similar articles (repeat but in slightly different form)"
   ]
  },
  {
   "cell_type": "code",
   "execution_count": null,
   "metadata": {},
   "outputs": [],
   "source": [
    "from sklearn.feature_extraction.text import TfidfVectorizer\n",
    "\n",
    "vec = TfidfVectorizer(stop_words=stop, ngram_range = (1,3), min_df = 5)"
   ]
  },
  {
   "cell_type": "code",
   "execution_count": null,
   "metadata": {},
   "outputs": [],
   "source": [
    "X = vec.fit_transform(news['story'].values)"
   ]
  },
  {
   "cell_type": "code",
   "execution_count": null,
   "metadata": {},
   "outputs": [],
   "source": [
    "pairwise_similarity = X * X.T\n",
    "arr = pairwise_similarity.toarray()"
   ]
  },
  {
   "cell_type": "code",
   "execution_count": null,
   "metadata": {},
   "outputs": [],
   "source": [
    "# Eliminate diagonals and low similarity\n",
    "np.fill_diagonal(arr, 0)\n",
    "arr[arr <= 0.98] = 0\n",
    "\n",
    "# Articles where match is more than 0.95\n",
    "r, c = np.where(arr > 0.98)\n",
    "\n",
    "# Identify indices to delete\n",
    "t = [tuple(sorted(x)) for x in zip(r, c)]\n",
    "unique_t = [x for x in set(t)]\n",
    "to_delete = list(set([x[1] for x in unique_t]))\n",
    "\n",
    "# Delete said indices\n",
    "news = news.drop(to_delete)"
   ]
  },
  {
   "cell_type": "code",
   "execution_count": null,
   "metadata": {},
   "outputs": [],
   "source": [
    "news_today = news[news['index'] > datetime.combine(date.today(), datetime.min.time()) - timedelta(days = 3)]\n",
    "news_history = news[news['index'] < datetime.combine(date.today(), datetime.min.time()) - timedelta(days = 3)]"
   ]
  },
  {
   "cell_type": "code",
   "execution_count": null,
   "metadata": {},
   "outputs": [],
   "source": [
    "# Refit model\n",
    "vec.fit(news_history['storyClean'].values)"
   ]
  },
  {
   "cell_type": "code",
   "execution_count": null,
   "metadata": {},
   "outputs": [],
   "source": [
    "X = vec.transform(news_today['storyClean'].values)"
   ]
  },
  {
   "cell_type": "code",
   "execution_count": null,
   "metadata": {},
   "outputs": [],
   "source": [
    "pd.DataFrame({\"word\": vec.get_feature_names(), \"score\": np.array(X.mean(axis = 0))[0]}).sort_values(by = \"score\", ascending = False)"
   ]
  },
  {
   "cell_type": "code",
   "execution_count": null,
   "metadata": {},
   "outputs": [],
   "source": [
    "# For concordance\n",
    "curr_news = \";\".join(news_today['story'].values)\n",
    "curr_tokens = word_tokenize(curr_news)\n",
    "curr_tokens = [x.lower() for x in curr_tokens if x.isalpha()][:]\n",
    "stop = stopwords.words('english') + ['reuters', 'click', 'full', 'story']\n",
    "curr_tokens = [x for x in curr_tokens if x not in stop]\n",
    "\n",
    "text = nltk.Text(curr_tokens)"
   ]
  },
  {
   "cell_type": "code",
   "execution_count": null,
   "metadata": {},
   "outputs": [],
   "source": [
    "text.concordance(\"government\")"
   ]
  },
  {
   "cell_type": "markdown",
   "metadata": {},
   "source": [
    "# Misc analysis"
   ]
  },
  {
   "cell_type": "code",
   "execution_count": null,
   "metadata": {},
   "outputs": [],
   "source": [
    "# measure sentiment\n",
    "sid = SentimentIntensityAnalyzer()\n",
    "scores = sid.polarity_scores(news['story'][0])\n",
    "scores"
   ]
  },
  {
   "cell_type": "code",
   "execution_count": null,
   "metadata": {},
   "outputs": [],
   "source": [
    "all_news = \";\".join(news['story'].values)\n",
    "all_tokens = word_tokenize(all_news)"
   ]
  },
  {
   "cell_type": "code",
   "execution_count": null,
   "metadata": {},
   "outputs": [],
   "source": [
    "# Remove non-words\n",
    "clean_tokens = [x.lower() for x in all_tokens if x.isalpha()][:]"
   ]
  },
  {
   "cell_type": "code",
   "execution_count": null,
   "metadata": {},
   "outputs": [],
   "source": [
    "# Remove stopwords\n",
    "stop = stopwords.words('english') + ['reuters', 'click', 'full', 'story']\n",
    "clean_tokens = [x for x in clean_tokens if x not in stop]"
   ]
  },
  {
   "cell_type": "code",
   "execution_count": null,
   "metadata": {},
   "outputs": [],
   "source": [
    "freq = nltk.FreqDist(clean_tokens)\n",
    "freq.plot(20, cumulative = False)"
   ]
  }
 ],
 "metadata": {
  "kernelspec": {
   "display_name": "Python 3",
   "language": "python",
   "name": "python3"
  },
  "language_info": {
   "codemirror_mode": {
    "name": "ipython",
    "version": 3
   },
   "file_extension": ".py",
   "mimetype": "text/x-python",
   "name": "python",
   "nbconvert_exporter": "python",
   "pygments_lexer": "ipython3",
   "version": "3.7.3"
  }
 },
 "nbformat": 4,
 "nbformat_minor": 4
}
