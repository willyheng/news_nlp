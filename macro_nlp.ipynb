{
 "cells": [
  {
   "cell_type": "code",
   "execution_count": 117,
   "metadata": {},
   "outputs": [
    {
     "name": "stderr",
     "output_type": "stream",
     "text": [
      "[nltk_data] Downloading package punkt to\n",
      "[nltk_data]     C:\\Users\\willyheng\\AppData\\Roaming\\nltk_data...\n",
      "[nltk_data]   Package punkt is already up-to-date!\n",
      "[nltk_data] Downloading package vader_lexicon to\n",
      "[nltk_data]     C:\\Users\\willyheng\\AppData\\Roaming\\nltk_data...\n",
      "[nltk_data]   Package vader_lexicon is already up-to-date!\n"
     ]
    },
    {
     "data": {
      "text/plain": [
       "True"
      ]
     },
     "execution_count": 117,
     "metadata": {},
     "output_type": "execute_result"
    }
   ],
   "source": [
    "import eikon as ek  # the Eikon Python wrapper package\n",
    "import numpy as np  # NumPy\n",
    "import pandas as pd  # pandas\n",
    "import cufflinks as cf  # Cufflinks\n",
    "import configparser as cp\n",
    "import pickle\n",
    "\n",
    "import nltk, bs4  # NLP toolkit & BeautyfulSoup\n",
    "from bs4 import BeautifulSoup  # HTML parsing\n",
    "from nltk import word_tokenize  # tokenizing\n",
    "\n",
    "from nltk.sentiment.vader import SentimentIntensityAnalyzer  # sentiment analysis\n",
    "nltk.download('punkt')  # downloads package if required, for tokenizing\n",
    "nltk.download('vader_lexicon')  # For sentiment"
   ]
  },
  {
   "cell_type": "code",
   "execution_count": 118,
   "metadata": {},
   "outputs": [],
   "source": [
    "# Set up Eikon\n",
    "\n",
    "cfg = cp.ConfigParser()\n",
    "cfg.read('eikon.cfg')  # adjust for different file location\n",
    "ek.set_app_key(cfg['eikon']['app_id'])"
   ]
  },
  {
   "cell_type": "code",
   "execution_count": 119,
   "metadata": {},
   "outputs": [
    {
     "data": {
      "text/html": [
       "<div>\n",
       "<style scoped>\n",
       "    .dataframe tbody tr th:only-of-type {\n",
       "        vertical-align: middle;\n",
       "    }\n",
       "\n",
       "    .dataframe tbody tr th {\n",
       "        vertical-align: top;\n",
       "    }\n",
       "\n",
       "    .dataframe thead th {\n",
       "        text-align: right;\n",
       "    }\n",
       "</style>\n",
       "<table border=\"1\" class=\"dataframe\">\n",
       "  <thead>\n",
       "    <tr style=\"text-align: right;\">\n",
       "      <th></th>\n",
       "      <th>versionCreated</th>\n",
       "      <th>text</th>\n",
       "      <th>storyId</th>\n",
       "      <th>sourceCode</th>\n",
       "    </tr>\n",
       "  </thead>\n",
       "  <tbody>\n",
       "    <tr>\n",
       "      <th>2019-08-19 14:32:37</th>\n",
       "      <td>2019-08-19 14:32:37+00:00</td>\n",
       "      <td>FOREX-Yen, Swiss franc fall on optimism about ...</td>\n",
       "      <td>urn:newsml:reuters.com:20190819:nL5N25F316:6</td>\n",
       "      <td>NS:RTRS</td>\n",
       "    </tr>\n",
       "    <tr>\n",
       "      <th>2019-08-19 11:20:10</th>\n",
       "      <td>2019-08-19 14:04:24+00:00</td>\n",
       "      <td>UPDATE 2-Nigeria c.bank to defend reserves in ...</td>\n",
       "      <td>urn:newsml:reuters.com:20190819:nL5N25F25W:5</td>\n",
       "      <td>NS:RTRS</td>\n",
       "    </tr>\n",
       "    <tr>\n",
       "      <th>2019-08-19 02:59:50</th>\n",
       "      <td>2019-08-19 13:54:08+00:00</td>\n",
       "      <td>UPDATE 6-Oil up after drone attack on Saudi fi...</td>\n",
       "      <td>urn:newsml:reuters.com:20190819:nL4N25F0CT:13</td>\n",
       "      <td>NS:RTRS</td>\n",
       "    </tr>\n",
       "    <tr>\n",
       "      <th>2017-11-01 10:44:44</th>\n",
       "      <td>2019-08-19 13:26:17+00:00</td>\n",
       "      <td>TAKE A LOOK-Brexit - Johnson tells Germany and...</td>\n",
       "      <td>urn:newsml:reuters.com:20171101:nBREXIT:5</td>\n",
       "      <td>NS:RTRS</td>\n",
       "    </tr>\n",
       "    <tr>\n",
       "      <th>2019-08-19 07:55:42</th>\n",
       "      <td>2019-08-19 13:12:53+00:00</td>\n",
       "      <td>UPDATE 3-UK's Johnson tells Germany and France...</td>\n",
       "      <td>urn:newsml:reuters.com:20190819:nL5N25F151:7</td>\n",
       "      <td>NS:RTRS</td>\n",
       "    </tr>\n",
       "  </tbody>\n",
       "</table>\n",
       "</div>"
      ],
      "text/plain": [
       "                               versionCreated  \\\n",
       "2019-08-19 14:32:37 2019-08-19 14:32:37+00:00   \n",
       "2019-08-19 11:20:10 2019-08-19 14:04:24+00:00   \n",
       "2019-08-19 02:59:50 2019-08-19 13:54:08+00:00   \n",
       "2017-11-01 10:44:44 2019-08-19 13:26:17+00:00   \n",
       "2019-08-19 07:55:42 2019-08-19 13:12:53+00:00   \n",
       "\n",
       "                                                                  text  \\\n",
       "2019-08-19 14:32:37  FOREX-Yen, Swiss franc fall on optimism about ...   \n",
       "2019-08-19 11:20:10  UPDATE 2-Nigeria c.bank to defend reserves in ...   \n",
       "2019-08-19 02:59:50  UPDATE 6-Oil up after drone attack on Saudi fi...   \n",
       "2017-11-01 10:44:44  TAKE A LOOK-Brexit - Johnson tells Germany and...   \n",
       "2019-08-19 07:55:42  UPDATE 3-UK's Johnson tells Germany and France...   \n",
       "\n",
       "                                                           storyId sourceCode  \n",
       "2019-08-19 14:32:37   urn:newsml:reuters.com:20190819:nL5N25F316:6    NS:RTRS  \n",
       "2019-08-19 11:20:10   urn:newsml:reuters.com:20190819:nL5N25F25W:5    NS:RTRS  \n",
       "2019-08-19 02:59:50  urn:newsml:reuters.com:20190819:nL4N25F0CT:13    NS:RTRS  \n",
       "2017-11-01 10:44:44      urn:newsml:reuters.com:20171101:nBREXIT:5    NS:RTRS  \n",
       "2019-08-19 07:55:42   urn:newsml:reuters.com:20190819:nL5N25F151:7    NS:RTRS  "
      ]
     },
     "execution_count": 119,
     "metadata": {},
     "output_type": "execute_result"
    }
   ],
   "source": [
    "# Download headlines\n",
    "\n",
    "query = '( Topic:NEWS1 OR Topic:TOPNWS ) AND (Topic:FRX OR Topic:CEN OR Topic:ECI OR Topic:INT) AND (Topic:EZC OR Topic:EZ OR Topic:GB) AND LEN NOT ( Topic:SPO)'\n",
    "news = ek.get_news_headlines(query, \n",
    "                             date_from='2019-08-19T00:00:00', \n",
    "                             date_to ='2019-08-20T20:00:00', \n",
    "                             count = 100)\n",
    "news.head()"
   ]
  },
  {
   "cell_type": "code",
   "execution_count": 120,
   "metadata": {},
   "outputs": [
    {
     "name": "stdout",
     "output_type": "stream",
     "text": [
      "Wall time: 4.01 ms\n"
     ]
    }
   ],
   "source": [
    "%%time\n",
    "\n",
    "# Download and store news content\n",
    "try:\n",
    "    news = pickle.load(open('eikon_news.pkl', 'rb'))\n",
    "except:\n",
    "    stories = []\n",
    "    for i, storyId in enumerate(news['storyId']):\n",
    "        try:\n",
    "            html = ek.get_news_story(storyId)\n",
    "            story = BeautifulSoup(html, 'html5lib').get_text()\n",
    "            stories.append(story)\n",
    "        except:\n",
    "            stories.append('')\n",
    "    news['story'] = stories\n",
    "    pickle.dump(news, open('eikon_news.pkl', 'wb'))"
   ]
  },
  {
   "cell_type": "code",
   "execution_count": 121,
   "metadata": {},
   "outputs": [
    {
     "data": {
      "text/plain": [
       "{'neg': 0.068, 'neu': 0.874, 'pos': 0.058, 'compound': -0.5242}"
      ]
     },
     "execution_count": 121,
     "metadata": {},
     "output_type": "execute_result"
    }
   ],
   "source": [
    "# measure sentiment\n",
    "sid = SentimentIntensityAnalyzer()\n",
    "scores = sid.polarity_scores(news['story'][0])\n",
    "scores"
   ]
  },
  {
   "cell_type": "code",
   "execution_count": 135,
   "metadata": {},
   "outputs": [],
   "source": [
    "all_news = \";\".join(news['story'].values)\n",
    "all_tokens = word_tokenize(all_news)"
   ]
  },
  {
   "cell_type": "code",
   "execution_count": 137,
   "metadata": {},
   "outputs": [],
   "source": [
    "text = nltk.Text(all_tokens)"
   ]
  },
  {
   "cell_type": "code",
   "execution_count": 138,
   "metadata": {},
   "outputs": [
    {
     "name": "stdout",
     "output_type": "stream",
     "text": [
      "Displaying 17 of 17 matches:\n",
      "onal election even if his government fell before that date . `` We do support \n",
      "d back to riskier assets , gold XAU= fell as much as 1 % to $ 1,496.70 per oun\n",
      "six months of 2019 , but its exports fell 24 % year-on-year after flows throug\n",
      "d back to riskier assets , gold XAU= fell 1 % to $ 1,499.30 per ounce , with U\n",
      "NDON , Aug 19 ( Reuters ) - Sterling fell back from a near three-week high aga\n",
      "s ' appetite to make major purchases fell at the second-fastest rate since Sep\n",
      "ade data is expected to show exports fell for the eighth month in July , while\n",
      "10-year U.S. and UK government bonds fell below two-year equivalents for the f\n",
      ". * NICKEL PRICES : LME nickel CMNI3 fell 0.7 % , while Shanghai nickel SNIcv1\n",
      "AFcv1 rose 1.3 % , while zinc SZNcv1 fell 0.6 % . * For the top stories in met\n",
      " ( Full Story ) Italy 's bond yields fell 2-4 bps IT10YT=RR , outperforming eu\n",
      "ring times of economic uncertainty , fell slightly on Monday versus other curr\n",
      "ns.Gold , another safe-haven asset , fell 0.3 % in the spot market XAU= to $ 1\n",
      "evious week , while barley shipments fell to 242,000 tonnes from 369,000 tonne\n",
      "v1 edged up 0.1 % , while tin SSNcv1 fell 2.2 % . * For the top stories in met\n",
      "0114 GMT . * U.S. gold futures GCcv1 fell 0.4 % to $ 1,517.60 an ounce . * The\n",
      "ange-traded fund , said its holdings fell 0.10 % to 843.41 tonnes on Friday . \n"
     ]
    }
   ],
   "source": [
    "text.concordance(\"fell\")"
   ]
  },
  {
   "cell_type": "code",
   "execution_count": 125,
   "metadata": {},
   "outputs": [],
   "source": [
    "tokens = news['story'].apply(word_tokenize)"
   ]
  },
  {
   "cell_type": "code",
   "execution_count": null,
   "metadata": {},
   "outputs": [],
   "source": []
  }
 ],
 "metadata": {
  "kernelspec": {
   "display_name": "Python 3",
   "language": "python",
   "name": "python3"
  },
  "language_info": {
   "codemirror_mode": {
    "name": "ipython",
    "version": 3
   },
   "file_extension": ".py",
   "mimetype": "text/x-python",
   "name": "python",
   "nbconvert_exporter": "python",
   "pygments_lexer": "ipython3",
   "version": "3.7.3"
  }
 },
 "nbformat": 4,
 "nbformat_minor": 4
}
