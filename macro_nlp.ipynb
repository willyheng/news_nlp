{
 "cells": [
  {
   "cell_type": "code",
   "execution_count": null,
   "metadata": {},
   "outputs": [],
   "source": [
    "import eikon as ek  # the Eikon Python wrapper package\n",
    "import numpy as np  # NumPy\n",
    "import pandas as pd  # pandas\n",
    "import cufflinks as cf  # Cufflinks\n",
    "import configparser as cp\n",
    "import pickle\n",
    "import re\n",
    "from datetime import date, timedelta, datetime\n",
    "\n",
    "import nltk, bs4  # NLP toolkit & BeautyfulSoup\n",
    "from bs4 import BeautifulSoup  # HTML parsing\n",
    "from nltk import word_tokenize  # tokenizing\n",
    "from nltk.corpus import stopwords\n",
    "\n",
    "from nltk.sentiment.vader import SentimentIntensityAnalyzer  # sentiment analysis\n",
    "\n",
    "nltk.download('stopwords')\n",
    "nltk.download('punkt')  # downloads package if required, for tokenizing\n",
    "nltk.download('vader_lexicon')  # For sentiment"
   ]
  },
  {
   "cell_type": "code",
   "execution_count": null,
   "metadata": {},
   "outputs": [],
   "source": [
    "import os\n",
    "os.getcwd()\n",
    "os.chdir(\"news_nlp\")"
   ]
  },
  {
   "cell_type": "code",
   "execution_count": null,
   "metadata": {},
   "outputs": [],
   "source": [
    "# Set up Eikon\n",
    "\n",
    "cfg = cp.ConfigParser()\n",
    "cfg.read('eikon.cfg')  # adjust for different file location\n",
    "ek.set_app_key(cfg['eikon']['app_id'])"
   ]
  },
  {
   "cell_type": "code",
   "execution_count": null,
   "metadata": {},
   "outputs": [],
   "source": [
    "%%time\n",
    "\n",
    "# Download last 3 months\n",
    "n_days = 90\n",
    "start_date = datetime.combine(date.today() - timedelta(days = n_days), datetime.min.time())\n",
    "\n",
    "query = '( Topic:NEWS1 OR Topic:TOPNWS ) AND (Topic:FRX OR Topic:CEN OR Topic:ECI OR Topic:INT) AND (Topic:EZC OR Topic:EZ OR Topic:GB) AND LEN NOT ( Topic:SPO)'\n",
    "headlines = []\n",
    "\n",
    "for i in range(n_days):\n",
    "    headlines.append(ek.get_news_headlines(query,\n",
    "                                           date_from=\"{:%Y-%m-%dT%H:%M}:00\".format(start_date + timedelta(days = i)), \n",
    "                                           date_to =\"{:%Y-%m-%dT%H:%M}:00\".format(start_date + timedelta(days = i, hours = 8)),\n",
    "                                           count = 100))\n",
    "    headlines.append(ek.get_news_headlines(query, \n",
    "                         date_from=\"{:%Y-%m-%dT%H:%M}:00\".format(start_date + timedelta(days = i, hours = 8)), \n",
    "                         date_to =\"{:%Y-%m-%dT%H:%M}:00\".format(start_date + timedelta(days = i, hours = 16)), \n",
    "                         count = 100))\n",
    "    headlines.append(ek.get_news_headlines(query, \n",
    "                     date_from=\"{:%Y-%m-%dT%H:%M}:00\".format(start_date + timedelta(days = i, hours = 16)), \n",
    "                     date_to =\"{:%Y-%m-%dT%H:%M}:00\".format(start_date + timedelta(days = i + 1)), \n",
    "                     count = 100))\n"
   ]
  },
  {
   "cell_type": "code",
   "execution_count": null,
   "metadata": {},
   "outputs": [],
   "source": [
    "headlines = pd.concat(headlines)"
   ]
  },
  {
   "cell_type": "code",
   "execution_count": null,
   "metadata": {},
   "outputs": [],
   "source": [
    "%%time\n",
    "\n",
    "# Download and store news content\n",
    "try:\n",
    "    news = pickle.load(open('eikon_news.pkl', 'rb'))\n",
    "except:\n",
    "    stories = []\n",
    "    for i, storyId in enumerate(headlines['storyId']):\n",
    "        try:\n",
    "            html = ek.get_news_story(storyId)\n",
    "            story = BeautifulSoup(html, 'html5lib').get_text(strip = True)\n",
    "            stories.append(story)\n",
    "        except:\n",
    "            stories.append('')\n",
    "    news['story'] = stories\n",
    "    pickle.dump(news, open('eikon_news.pkl', 'wb'))"
   ]
  },
  {
   "cell_type": "code",
   "execution_count": null,
   "metadata": {},
   "outputs": [],
   "source": [
    "# Remove top placeholder from the news\n",
    "news['story'] = news['story'].apply(lambda x: re.sub(\"^\\..*?{.*?}\",\"\", x))"
   ]
  },
  {
   "cell_type": "code",
   "execution_count": null,
   "metadata": {},
   "outputs": [],
   "source": [
    "news"
   ]
  },
  {
   "cell_type": "code",
   "execution_count": null,
   "metadata": {},
   "outputs": [],
   "source": [
    "# measure sentiment\n",
    "sid = SentimentIntensityAnalyzer()\n",
    "scores = sid.polarity_scores(news['story'][0])\n",
    "scores"
   ]
  },
  {
   "cell_type": "code",
   "execution_count": null,
   "metadata": {},
   "outputs": [],
   "source": [
    "all_news = \";\".join(news['story'].values)\n",
    "all_tokens = word_tokenize(all_news)"
   ]
  },
  {
   "cell_type": "code",
   "execution_count": null,
   "metadata": {},
   "outputs": [],
   "source": [
    "# Remove non-words\n",
    "clean_tokens = [x.lower() for x in all_tokens if x.isalpha()][:]"
   ]
  },
  {
   "cell_type": "code",
   "execution_count": null,
   "metadata": {},
   "outputs": [],
   "source": [
    "# Remove stopwords\n",
    "stop = stopwords.words('english') + ['reuters', 'story']\n",
    "clean_tokens = [x for x in clean_tokens if x not in stop]"
   ]
  },
  {
   "cell_type": "code",
   "execution_count": null,
   "metadata": {},
   "outputs": [],
   "source": [
    "freq = nltk.FreqDist(clean_tokens)\n",
    "freq.plot(20, cumulative = False)"
   ]
  },
  {
   "cell_type": "code",
   "execution_count": null,
   "metadata": {},
   "outputs": [],
   "source": [
    "text = nltk.Text(all_tokens)\n",
    "text.concordance(\"full\")"
   ]
  },
  {
   "cell_type": "code",
   "execution_count": null,
   "metadata": {},
   "outputs": [],
   "source": [
    "from collections import Counter"
   ]
  },
  {
   "cell_type": "code",
   "execution_count": null,
   "metadata": {},
   "outputs": [],
   "source": [
    "gram2 = [\" \".join([x,y]) for x, y in nltk.ngrams(text, 2)]\n",
    "gram2_counts = Counter(gram2).most_common()\n",
    "gram2_clean = [(key, cnt) for key, cnt in gram2_counts if (cnt > 1 and key.replace(\" \", \"\").isalpha())]"
   ]
  },
  {
   "cell_type": "code",
   "execution_count": null,
   "metadata": {},
   "outputs": [],
   "source": [
    "from sklearn.feature_extraction.text import TfidfVectorizer"
   ]
  },
  {
   "cell_type": "code",
   "execution_count": null,
   "metadata": {},
   "outputs": [],
   "source": [
    "vec = TfidfVectorizer(stop_words=stop, ngram_range = (1,3))"
   ]
  },
  {
   "cell_type": "code",
   "execution_count": null,
   "metadata": {},
   "outputs": [],
   "source": [
    "X = vec.fit_transform(news['story'].values)"
   ]
  },
  {
   "cell_type": "code",
   "execution_count": null,
   "metadata": {},
   "outputs": [],
   "source": [
    "pairwise_similarity = X * X.T"
   ]
  },
  {
   "cell_type": "code",
   "execution_count": null,
   "metadata": {},
   "outputs": [],
   "source": [
    "arr = pairwise_similarity.toarray()"
   ]
  },
  {
   "cell_type": "code",
   "execution_count": null,
   "metadata": {},
   "outputs": [],
   "source": [
    "# Eliminate diagonals and low similarity\n",
    "np.fill_diagonal(arr, 0)\n",
    "arr[arr < 0.9] = 0"
   ]
  },
  {
   "cell_type": "code",
   "execution_count": null,
   "metadata": {},
   "outputs": [],
   "source": [
    "r, c = np.where(arr > 0.9)"
   ]
  },
  {
   "cell_type": "code",
   "execution_count": null,
   "metadata": {},
   "outputs": [],
   "source": []
  },
  {
   "cell_type": "code",
   "execution_count": null,
   "metadata": {},
   "outputs": [],
   "source": [
    "[r, c]"
   ]
  },
  {
   "cell_type": "code",
   "execution_count": null,
   "metadata": {},
   "outputs": [],
   "source": [
    "pd.DataFrame({\"Doc1\": r, \"Doc2\": c, \"Similarity\":arr[r,c]})"
   ]
  },
  {
   "cell_type": "code",
   "execution_count": null,
   "metadata": {},
   "outputs": [],
   "source": [
    "results = pd.DataFrame(X.todense(), columns = vec.get_feature_names())"
   ]
  },
  {
   "cell_type": "code",
   "execution_count": null,
   "metadata": {},
   "outputs": [],
   "source": [
    "[results.iloc[x,].sort_values(ascending = False)[:5] for x in range(len(results))]"
   ]
  },
  {
   "cell_type": "code",
   "execution_count": null,
   "metadata": {},
   "outputs": [],
   "source": [
    "len(results)"
   ]
  },
  {
   "cell_type": "code",
   "execution_count": null,
   "metadata": {},
   "outputs": [],
   "source": []
  }
 ],
 "metadata": {
  "kernelspec": {
   "display_name": "Python 3",
   "language": "python",
   "name": "python3"
  },
  "language_info": {
   "codemirror_mode": {
    "name": "ipython",
    "version": 3
   },
   "file_extension": ".py",
   "mimetype": "text/x-python",
   "name": "python",
   "nbconvert_exporter": "python",
   "pygments_lexer": "ipython3",
   "version": "3.7.3"
  }
 },
 "nbformat": 4,
 "nbformat_minor": 4
}
